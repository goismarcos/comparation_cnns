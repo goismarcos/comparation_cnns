{
  "cells": [
    {
      "cell_type": "markdown",
      "source": [
        "\n",
        "\n",
        "> Work for bootcamp XP Education module one machine learning architect\n",
        "\n",
        "\n",
        "1.   Using Convolution Neural Network\n",
        "2.   Comparation between network VGG16 witch CNN common using data set fashion mnist\n",
        "\n",
        "\n",
        "\n"
      ],
      "metadata": {
        "id": "d3yRe97i-fmH"
      },
      "id": "d3yRe97i-fmH"
    },
    {
      "cell_type": "code",
      "execution_count": 1,
      "id": "8667773a",
      "metadata": {
        "id": "8667773a"
      },
      "outputs": [],
      "source": [
        "#imports libs\n",
        "import tensorflow as tf\n",
        "import numpy as np\n",
        "import matplotlib.pyplot as plt\n",
        "import tensorflow as tf\n",
        "\n",
        "from tensorflow.image import resize\n",
        "from tensorflow import keras\n",
        "from tensorflow.keras.models import *\n",
        "from tensorflow.keras.layers import *\n",
        "from keras.utils import np_utils"
      ]
    },
    {
      "cell_type": "code",
      "execution_count": 2,
      "id": "c2d3a326",
      "metadata": {
        "id": "c2d3a326",
        "colab": {
          "base_uri": "https://localhost:8080/"
        },
        "outputId": "e0b6d291-922e-429c-9939-0396279d9a85"
      },
      "outputs": [
        {
          "output_type": "stream",
          "name": "stdout",
          "text": [
            "Downloading data from https://storage.googleapis.com/tensorflow/tf-keras-datasets/train-labels-idx1-ubyte.gz\n",
            "29515/29515 [==============================] - 0s 0us/step\n",
            "Downloading data from https://storage.googleapis.com/tensorflow/tf-keras-datasets/train-images-idx3-ubyte.gz\n",
            "26421880/26421880 [==============================] - 0s 0us/step\n",
            "Downloading data from https://storage.googleapis.com/tensorflow/tf-keras-datasets/t10k-labels-idx1-ubyte.gz\n",
            "5148/5148 [==============================] - 0s 0us/step\n",
            "Downloading data from https://storage.googleapis.com/tensorflow/tf-keras-datasets/t10k-images-idx3-ubyte.gz\n",
            "4422102/4422102 [==============================] - 0s 0us/step\n"
          ]
        }
      ],
      "source": [
        "#get dataset of mnist fashion\n",
        "fashion_mnist = keras.datasets.fashion_mnist\n",
        "\n",
        "(train_images, train_labels), (test_images, test_labels) = fashion_mnist.load_data()"
      ]
    },
    {
      "cell_type": "markdown",
      "source": [
        "# **Fashion mnist witch VGG16**"
      ],
      "metadata": {
        "id": "hW0FcdtSHYFY"
      },
      "id": "hW0FcdtSHYFY"
    },
    {
      "cell_type": "code",
      "execution_count": 3,
      "id": "83e2c935",
      "metadata": {
        "id": "83e2c935"
      },
      "outputs": [],
      "source": [
        "def normalize_images(images):\n",
        "    # initial zero ndarray\n",
        "    normalized_images = np.zeros_like(images.astype(float))\n",
        "\n",
        "    # The first images index is number of images where the other indices indicates\n",
        "    # hieight, width and depth of the image\n",
        "    num_images = images.shape[0]\n",
        "\n",
        "    # Computing the minimum and maximum value of the input image to do the normalization based on them\n",
        "    maximum_value, minimum_value = images.max(), images.min()\n",
        "\n",
        "    # Normalize all the pixel values of the images to be from 0 to 1\n",
        "    for img in range(num_images):\n",
        "        normalized_images[img, ...] = (images[img, ...] - float(minimum_value)) / float(maximum_value - minimum_value)\n",
        "\n",
        "    return normalized_images\n",
        "\n",
        "#normalization and trnsform variable target in categorical\n",
        "train_images = normalize_images(train_images)\n",
        "test_images = normalize_images(test_images)\n",
        "\n",
        "#reshape dataset from (28,28,1) to (32,32,3)\n",
        "x_aux = np.expand_dims(train_images, axis=-1)\n",
        "x_aux = np.repeat(x_aux, 3, axis=-1)\n",
        "train_images_VGG = resize(x_aux, [32,32])\n",
        "\n",
        "x_aux = np.expand_dims(test_images, axis=-1)\n",
        "x_aux = np.repeat(x_aux, 3, axis=-1)\n",
        "test_images_VGG = resize(x_aux, [32,32])\n",
        "\n",
        "#convert to categorical labels and flatten data\n",
        "train_labels_VGG = np_utils.to_categorical(train_labels)\n",
        "test_labels_VGG = np_utils.to_categorical(test_labels)"
      ]
    },
    {
      "cell_type": "code",
      "source": [
        "#visualization data categorical\n",
        "display(train_labels_VGG[0])\n",
        "\n",
        "#vizualization data\n",
        "plt.figure()\n",
        "plt.imshow(test_images_VGG[4000])\n",
        "plt.colorbar()\n",
        "plt.grid(False)\n",
        "plt.show()"
      ],
      "metadata": {
        "colab": {
          "base_uri": "https://localhost:8080/",
          "height": 283
        },
        "id": "vAPLTdwT8BgR",
        "outputId": "100ba56c-da7d-47e3-c1f6-b75516ecb205"
      },
      "id": "vAPLTdwT8BgR",
      "execution_count": 4,
      "outputs": [
        {
          "output_type": "display_data",
          "data": {
            "text/plain": [
              "array([0., 0., 0., 0., 0., 0., 0., 0., 0., 1.], dtype=float32)"
            ]
          },
          "metadata": {}
        },
        {
          "output_type": "display_data",
          "data": {
            "text/plain": [
              "<Figure size 432x288 with 2 Axes>"
            ],
            "image/png": "[encoded data removed]"
          },
          "metadata": {
            "needs_background": "light"
          }
        }
      ]
    },
    {
      "cell_type": "code",
      "execution_count": 5,
      "id": "91eb0975",
      "metadata": {
        "colab": {
          "base_uri": "https://localhost:8080/"
        },
        "id": "91eb0975",
        "outputId": "9658b20f-f66a-472f-cefb-d61658a7b5ba"
      },
      "outputs": [
        {
          "output_type": "stream",
          "name": "stdout",
          "text": [
            "Model: \"model\"\n",
            "_________________________________________________________________\n",
            " Layer (type)                Output Shape              Param #   \n",
            "=================================================================\n",
            " input_1 (InputLayer)        [(None, 32, 32, 3)]       0         \n",
            "                                                                 \n",
            " block1_conv1 (Conv2D)       (None, 32, 32, 64)        1792      \n",
            "                                                                 \n",
            " block1_conv2 (Conv2D)       (None, 32, 32, 64)        36928     \n",
            "                                                                 \n",
            " block1_pool (MaxPooling2D)  (None, 16, 16, 64)        0         \n",
            "                                                                 \n",
            " block2_conv1 (Conv2D)       (None, 16, 16, 128)       73856     \n",
            "                                                                 \n",
            " block2_conv2 (Conv2D)       (None, 16, 16, 128)       147584    \n",
            "                                                                 \n",
            " block2_pool (MaxPooling2D)  (None, 8, 8, 128)         0         \n",
            "                                                                 \n",
            " block3_conv1 (Conv2D)       (None, 8, 8, 256)         295168    \n",
            "                                                                 \n",
            " block3_conv2 (Conv2D)       (None, 8, 8, 256)         590080    \n",
            "                                                                 \n",
            " block3_conv3 (Conv2D)       (None, 8, 8, 256)         590080    \n",
            "                                                                 \n",
            " block3_pool (MaxPooling2D)  (None, 4, 4, 256)         0         \n",
            "                                                                 \n",
            " block4_conv1 (Conv2D)       (None, 4, 4, 512)         1180160   \n",
            "                                                                 \n",
            " block4_conv2 (Conv2D)       (None, 4, 4, 512)         2359808   \n",
            "                                                                 \n",
            " block4_conv3 (Conv2D)       (None, 4, 4, 512)         2359808   \n",
            "                                                                 \n",
            " block4_pool (MaxPooling2D)  (None, 2, 2, 512)         0         \n",
            "                                                                 \n",
            " block5_conv1 (Conv2D)       (None, 2, 2, 512)         2359808   \n",
            "                                                                 \n",
            " block5_conv2 (Conv2D)       (None, 2, 2, 512)         2359808   \n",
            "                                                                 \n",
            " block5_conv3 (Conv2D)       (None, 2, 2, 512)         2359808   \n",
            "                                                                 \n",
            " block5_pool (MaxPooling2D)  (None, 1, 1, 512)         0         \n",
            "                                                                 \n",
            " flatten (Flatten)           (None, 512)               0         \n",
            "                                                                 \n",
            " fc1 (Dense)                 (None, 4096)              2101248   \n",
            "                                                                 \n",
            " fc2 (Dense)                 (None, 4096)              16781312  \n",
            "                                                                 \n",
            " predictions (Dense)         (None, 1000)              4097000   \n",
            "                                                                 \n",
            " dense (Dense)               (None, 10)                10010     \n",
            "                                                                 \n",
            "=================================================================\n",
            "Total params: 37,704,258\n",
            "Trainable params: 37,704,258\n",
            "Non-trainable params: 0\n",
            "_________________________________________________________________\n"
          ]
        }
      ],
      "source": [
        "#import VGG16 and add final layer\n",
        "baseModel = tf.keras.applications.VGG16(\n",
        "                include_top=True,\n",
        "                weights=None,\n",
        "                input_tensor=None,\n",
        "                input_shape=(32,32,3),\n",
        "                pooling=None,\n",
        "                classes=1000,\n",
        "                classifier_activation=\"softmax\",\n",
        "            )\n",
        "\n",
        "headModel = baseModel.output\n",
        "headModel = Dense(10, activation=\"softmax\")(headModel)\n",
        "model_VGG16 = Model(inputs=baseModel.input, outputs=headModel)\n",
        "\n",
        "model_VGG16.summary()"
      ]
    },
    {
      "cell_type": "code",
      "execution_count": 6,
      "id": "2439882c",
      "metadata": {
        "colab": {
          "base_uri": "https://localhost:8080/"
        },
        "id": "2439882c",
        "outputId": "3cc309b0-2412-45e5-e9bc-3232fd5a2366"
      },
      "outputs": [
        {
          "output_type": "stream",
          "name": "stdout",
          "text": [
            "Epoch 1/5\n",
            "200/200 [==============================] - 40s 127ms/step - loss: 2.3028 - accuracy: 0.1008 - val_loss: 2.3026 - val_accuracy: 0.1000\n",
            "Epoch 2/5\n",
            "200/200 [==============================] - 24s 122ms/step - loss: 2.3027 - accuracy: 0.0987 - val_loss: 2.3026 - val_accuracy: 0.1000\n",
            "Epoch 3/5\n",
            "200/200 [==============================] - 24s 121ms/step - loss: 2.3027 - accuracy: 0.0968 - val_loss: 2.3026 - val_accuracy: 0.1000\n",
            "Epoch 4/5\n",
            "200/200 [==============================] - 24s 121ms/step - loss: 2.3027 - accuracy: 0.0974 - val_loss: 2.3026 - val_accuracy: 0.1000\n",
            "Epoch 5/5\n",
            "200/200 [==============================] - 24s 121ms/step - loss: 2.3027 - accuracy: 0.0979 - val_loss: 2.3026 - val_accuracy: 0.1000\n"
          ]
        }
      ],
      "source": [
        "#complile and fit model\n",
        "model_VGG16.compile(loss='categorical_crossentropy', optimizer='adam', metrics=['accuracy'])\n",
        "\n",
        "result_VGG16 = model_VGG16.fit(train_images_VGG, train_labels_VGG, validation_data=(test_images_VGG, test_labels_VGG), \n",
        "                               epochs=5, verbose=1, batch_size=300)"
      ]
    },
    {
      "cell_type": "markdown",
      "source": [
        "# **Fashion mnist witch CNN common**"
      ],
      "metadata": {
        "id": "TxUEGVEtHuiw"
      },
      "id": "TxUEGVEtHuiw"
    },
    {
      "cell_type": "code",
      "source": [
        "#transform values of pixels to float32 nomalized and flatten data\n",
        "train_images_common = train_images.reshape(train_images.shape[0], 784).astype('float32') / 255\n",
        "test_images_common = test_images.reshape(test_images.shape[0], 784).astype('float32') / 255\n",
        "\n",
        "#convert to categorical labels\n",
        "train_labels_common = np_utils.to_categorical(train_labels)\n",
        "test_labels_common = np_utils.to_categorical(test_labels)"
      ],
      "metadata": {
        "id": "GRi3qz763NxE"
      },
      "id": "GRi3qz763NxE",
      "execution_count": 7,
      "outputs": []
    },
    {
      "cell_type": "code",
      "source": [
        "#visualization data categorical\n",
        "display(train_labels_common[0])\n",
        "\n",
        "#vizualization data\n",
        "plt.figure()\n",
        "plt.imshow(train_images[4000])\n",
        "plt.colorbar()\n",
        "plt.grid(False)\n",
        "plt.show()"
      ],
      "metadata": {
        "colab": {
          "base_uri": "https://localhost:8080/",
          "height": 286
        },
        "id": "srJXNDP33Tj7",
        "outputId": "0b32347b-79d9-43e8-c44a-78abb4ab298b"
      },
      "id": "srJXNDP33Tj7",
      "execution_count": 10,
      "outputs": [
        {
          "output_type": "display_data",
          "data": {
            "text/plain": [
              "array([0., 0., 0., 0., 0., 0., 0., 0., 0., 1.], dtype=float32)"
            ]
          },
          "metadata": {}
        },
        {
          "output_type": "display_data",
          "data": {
            "text/plain": [
              "<Figure size 432x288 with 2 Axes>"
            ],
            "image/png": "[encoded data removed]"
          },
          "metadata": {
            "needs_background": "light"
          }
        }
      ]
    },
    {
      "cell_type": "code",
      "execution_count": 11,
      "id": "52a5892c",
      "metadata": {
        "colab": {
          "base_uri": "https://localhost:8080/"
        },
        "id": "52a5892c",
        "outputId": "8e028470-ba2c-4665-d94b-5fe0c8516d4d"
      },
      "outputs": [
        {
          "output_type": "stream",
          "name": "stdout",
          "text": [
            "Model: \"sequential\"\n",
            "_________________________________________________________________\n",
            " Layer (type)                Output Shape              Param #   \n",
            "=================================================================\n",
            " dense_1 (Dense)             (None, 784)               615440    \n",
            "                                                                 \n",
            " dense_2 (Dense)             (None, 1024)              803840    \n",
            "                                                                 \n",
            " dense_3 (Dense)             (None, 2048)              2099200   \n",
            "                                                                 \n",
            " dense_4 (Dense)             (None, 2048)              4196352   \n",
            "                                                                 \n",
            " dense_5 (Dense)             (None, 10)                20490     \n",
            "                                                                 \n",
            "=================================================================\n",
            "Total params: 7,735,322\n",
            "Trainable params: 7,735,322\n",
            "Non-trainable params: 0\n",
            "_________________________________________________________________\n"
          ]
        }
      ],
      "source": [
        "#construct model cnn common\n",
        "model_common = tf.keras.models.Sequential()\n",
        "model_common.add(tf.keras.layers.Dense(units=784, activation='relu', input_dim=784))\n",
        "model_common.add(tf.keras.layers.Dense(units=1024, activation='relu'))\n",
        "model_common.add(tf.keras.layers.Dense(units=2048, activation='relu'))\n",
        "model_common.add(tf.keras.layers.Dense(units=2048, activation='relu'))\n",
        "model_common.add(tf.keras.layers.Dense(units=10, activation='softmax'))\n",
        "\n",
        "model_common.summary()"
      ]
    },
    {
      "cell_type": "code",
      "execution_count": 12,
      "id": "a6d4cb12",
      "metadata": {
        "colab": {
          "base_uri": "https://localhost:8080/"
        },
        "id": "a6d4cb12",
        "outputId": "961162d3-52b7-450d-a035-e1d7980625dd"
      },
      "outputs": [
        {
          "output_type": "stream",
          "name": "stdout",
          "text": [
            "Epoch 1/5\n",
            "200/200 [==============================] - 2s 9ms/step - loss: 0.8740 - accuracy: 0.6662 - val_loss: 0.5944 - val_accuracy: 0.7802\n",
            "Epoch 2/5\n",
            "200/200 [==============================] - 1s 7ms/step - loss: 0.5248 - accuracy: 0.8069 - val_loss: 0.4758 - val_accuracy: 0.8264\n",
            "Epoch 3/5\n",
            "200/200 [==============================] - 1s 7ms/step - loss: 0.4348 - accuracy: 0.8403 - val_loss: 0.4354 - val_accuracy: 0.8396\n",
            "Epoch 4/5\n",
            "200/200 [==============================] - 1s 7ms/step - loss: 0.3904 - accuracy: 0.8555 - val_loss: 0.4144 - val_accuracy: 0.8498\n",
            "Epoch 5/5\n",
            "200/200 [==============================] - 1s 7ms/step - loss: 0.3605 - accuracy: 0.8666 - val_loss: 0.3910 - val_accuracy: 0.8569\n"
          ]
        }
      ],
      "source": [
        "#complile and fit model\n",
        "model_common.compile(loss='categorical_crossentropy', optimizer='adam', metrics=['accuracy'])\n",
        "\n",
        "result_cnn_common = model_common.fit(train_images_common, train_labels_common, validation_data=(test_images_common, test_labels_common),\n",
        "                                     epochs=5, verbose=1, batch_size=300)"
      ]
    }
  ],
  "metadata": {
    "kernelspec": {
      "display_name": "Python 3 (ipykernel)",
      "language": "python",
      "name": "python3"
    },
    "language_info": {
      "codemirror_mode": {
        "name": "ipython",
        "version": 3
      },
      "file_extension": ".py",
      "mimetype": "text/x-python",
      "name": "python",
      "nbconvert_exporter": "python",
      "pygments_lexer": "ipython3",
      "version": "3.9.12"
    },
    "colab": {
      "provenance": []
    },
    "accelerator": "GPU"
  },
  "nbformat": 4,
  "nbformat_minor": 5
}